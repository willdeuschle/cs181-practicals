{
 "cells": [
  {
   "cell_type": "code",
   "execution_count": 8,
   "metadata": {},
   "outputs": [],
   "source": [
    "import numpy as np\n",
    "from sklearn.model_selection import KFold\n",
    "\n",
    "# to compute abs. error\n",
    "def compute_error(pred, actual):\n",
    "    # abs error\n",
    "    return np.sum(np.absolute(np.subtract(pred, actual)))\n",
    "\n",
    "# estimate model performance using validation sets\n",
    "def select_best_model(X, Y, num_validation_sets, model_fn):\n",
    "    # error accumulator\n",
    "    error = 0\n",
    "    # set up the kfold operation\n",
    "    kf = KFold(n_splits=num_validation_sets)\n",
    "    kf.get_n_splits(X)\n",
    "    for train_index, validation_index in kf.split(X):\n",
    "        # get train and validate data\n",
    "        X_train, X_validation = X[train_index], X[validation_index]\n",
    "        Y_train, Y_validation = Y[train_index], Y[validation_index]\n",
    "        # train, should return a function to make predictions\n",
    "        trained_fn = model_fn(X_train, y_train)\n",
    "        # get error\n",
    "        pred = trained_fn(X_validation)\n",
    "        error += compute_error(pred, Y_validation)\n",
    "    return error / float(num_validation_sets)"
   ]
  },
  {
   "cell_type": "code",
   "execution_count": null,
   "metadata": {},
   "outputs": [],
   "source": []
  }
 ],
 "metadata": {
  "kernelspec": {
   "display_name": "Python 3",
   "language": "python",
   "name": "python3"
  },
  "language_info": {
   "codemirror_mode": {
    "name": "ipython",
    "version": 3
   },
   "file_extension": ".py",
   "mimetype": "text/x-python",
   "name": "python",
   "nbconvert_exporter": "python",
   "pygments_lexer": "ipython3",
   "version": "3.6.0"
  }
 },
 "nbformat": 4,
 "nbformat_minor": 2
}
