{
 "cells": [
  {
   "cell_type": "code",
   "execution_count": null,
   "metadata": {
    "collapsed": true
   },
   "outputs": [],
   "source": [
    "#trainXs: total counts, runtime\n",
    "#trainXs_simple: tag counts, runtime\n"
   ]
  },
  {
   "cell_type": "code",
   "execution_count": 22,
   "metadata": {
    "collapsed": true
   },
   "outputs": [],
   "source": [
    "import numpy as np\n",
    "from sklearn.model_selection import KFold\n",
    "\n",
    "# accuracy classification\n",
    "def compute_error(pred, actual):\n",
    "    num_pts = float(pred.shape[0])\n",
    "    return np.sum((pred - actual)==0)/num_pts\n",
    "    #return np.sqrt(np.sum(np.square(np.subtract(pred, actual))) / num_pts)\n",
    "\n",
    "# estimate model performance using validation sets\n",
    "def select_best_model(X, Y, num_validation_sets, model_fn):\n",
    "    # error accumulator\n",
    "    error = 0\n",
    "    # set up the kfold operation\n",
    "    kf = KFold(n_splits=num_validation_sets)\n",
    "    kf.get_n_splits(X)\n",
    "    for train_index, validation_index in kf.split(X):\n",
    "        #print(\"next validation set\")\n",
    "        # get train and validate data\n",
    "        X_train, X_validation = X.loc[train_index], X.loc[validation_index]\n",
    "        Y_train, Y_validation = Y.loc[train_index], Y.loc[validation_index]\n",
    "        # train, should return a function to make predictions\n",
    "        #print(\"training\")\n",
    "        trained_fn = model_fn(X_train, Y_train)\n",
    "        # get error\n",
    "        pred = trained_fn(X_validation)\n",
    "        #print(\"got a prediction!\")\n",
    "        error += compute_error(pred, Y_validation)\n",
    "    return error / float(num_validation_sets)"
   ]
  },
  {
   "cell_type": "code",
   "execution_count": 14,
   "metadata": {
    "collapsed": true
   },
   "outputs": [],
   "source": [
    "#error for regression\n",
    "import numpy as np\n",
    "from sklearn.model_selection import KFold\n",
    "\n",
    "# to compute classification error\n",
    "def compute_error(pred, actual):\n",
    "    num_pts = float(pred.shape[0])\n",
    "    \n",
    "    return np.sqrt(np.sum(np.square(np.subtract(pred, actual))) / num_pts)\n",
    "\n",
    "# estimate model performance using validation sets\n",
    "def select_best_model(X, Y, num_validation_sets, model_fn):\n",
    "    # error accumulator\n",
    "    error = 0\n",
    "    # set up the kfold operation\n",
    "    kf = KFold(n_splits=num_validation_sets)\n",
    "    kf.get_n_splits(X)\n",
    "    for train_index, validation_index in kf.split(X):\n",
    "        #print(\"next validation set\")\n",
    "        # get train and validate data\n",
    "        X_train, X_validation = X.loc[train_index], X.loc[validation_index]\n",
    "        Y_train, Y_validation = Y.loc[train_index], Y.loc[validation_index]\n",
    "        # train, should return a function to make predictions\n",
    "        #print(\"training\")\n",
    "        trained_fn = model_fn(X_train, Y_train)\n",
    "        # get error\n",
    "        pred = trained_fn(X_validation)\n",
    "        #print(\"got a prediction!\")\n",
    "        error += compute_error(pred, Y_validation)\n",
    "    return error / float(num_validation_sets)"
   ]
  },
  {
   "cell_type": "code",
   "execution_count": 10,
   "metadata": {},
   "outputs": [
    {
     "data": {
      "text/plain": [
       "1"
      ]
     },
     "execution_count": 10,
     "metadata": {},
     "output_type": "execute_result"
    }
   ],
   "source": [
    "A = 3\n",
    "B = 8\n",
    "int((A-B)!=0)"
   ]
  },
  {
   "cell_type": "code",
   "execution_count": 2,
   "metadata": {
    "collapsed": true
   },
   "outputs": [],
   "source": [
    "import pickle\n",
    "# want to pickle our corpus\n",
    "def save_obj(obj, name):\n",
    "    with open('obj/'+ name + '.pkl', 'wb') as f:\n",
    "        pickle.dump(obj, f, pickle.HIGHEST_PROTOCOL)\n",
    "\n",
    "def load_obj(name):\n",
    "    with open('obj/' + name + '.pkl', 'rb') as f:\n",
    "        return pickle.load(f)"
   ]
  },
  {
   "cell_type": "code",
   "execution_count": 33,
   "metadata": {},
   "outputs": [],
   "source": [
    "# load up our data\n",
    "#trainXs = load_obj('trainXs')\n",
    "#trainXs = load_obj('trainXs_simple')\n",
    "trainXs = load_obj('trainXs_new')\n",
    "trainYs = load_obj('trainYs')"
   ]
  },
  {
   "cell_type": "code",
   "execution_count": 35,
   "metadata": {
    "collapsed": true
   },
   "outputs": [],
   "source": [
    "# remove ids\n",
    "YsNoId = trainYs.drop(['id'], axis=1)\n",
    "XsNoId = trainXs.drop(['id'], axis=1)"
   ]
  },
  {
   "cell_type": "code",
   "execution_count": 6,
   "metadata": {
    "collapsed": true
   },
   "outputs": [],
   "source": [
    "from sklearn.ensemble import RandomForestClassifier\n",
    "\n",
    "def train_and_test_RF_model(n_estimators):\n",
    "    def helper(X_train, Y_train):\n",
    "        RF = RandomForestClassifier(n_estimators=n_estimators)\n",
    "        RF.fit(X_train, Y_train)\n",
    "        # return the predictor we've trained\n",
    "        return RF.predict\n",
    "    return helper"
   ]
  },
  {
   "cell_type": "code",
   "execution_count": 31,
   "metadata": {},
   "outputs": [
    {
     "name": "stdout",
     "output_type": "stream",
     "text": [
      "with 5 estimators 0.7968160871386678\n",
      "with 10 estimators 0.8016610808546293\n",
      "with 15 estimators 0.8065395894428153\n",
      "with 20 estimators 0.8107478005865103\n",
      "with 25 estimators 0.8107498952660244\n",
      "with 30 estimators 0.81561793045664\n",
      "with 35 estimators 0.8120527859237537\n",
      "with 100 estimators 0.815609551738584\n",
      "with 200 estimators 0.8149664851277756\n"
     ]
    }
   ],
   "source": [
    "# random forest, ten-fold validation, initially 5 estimators\n",
    "# simple tag counts + run time, \n",
    "print(\"with 5 estimators\", select_best_model(XsNoId, YsNoId['malware_category'], 20, train_and_test_RF_model(5)))\n",
    "print(\"with 10 estimators\", select_best_model(XsNoId, YsNoId['malware_category'], 20, train_and_test_RF_model(10)))\n",
    "print(\"with 15 estimators\", select_best_model(XsNoId, YsNoId['malware_category'], 20, train_and_test_RF_model(15)))\n",
    "print(\"with 20 estimators\", select_best_model(XsNoId, YsNoId['malware_category'], 20, train_and_test_RF_model(20)))\n",
    "print(\"with 25 estimators\", select_best_model(XsNoId, YsNoId['malware_category'], 20, train_and_test_RF_model(25)))\n",
    "print(\"with 30 estimators\", select_best_model(XsNoId, YsNoId['malware_category'], 20, train_and_test_RF_model(30)))\n",
    "print(\"with 35 estimators\", select_best_model(XsNoId, YsNoId['malware_category'], 20, train_and_test_RF_model(35)))\n",
    "print(\"with 100 estimators\", select_best_model(XsNoId, YsNoId['malware_category'], 20, train_and_test_RF_model(100)))\n",
    "print(\"with 200 estimators\", select_best_model(XsNoId, YsNoId['malware_category'], 20, train_and_test_RF_model(200)))"
   ]
  },
  {
   "cell_type": "code",
   "execution_count": null,
   "metadata": {
    "collapsed": true
   },
   "outputs": [],
   "source": []
  },
  {
   "cell_type": "code",
   "execution_count": 28,
   "metadata": {},
   "outputs": [
    {
     "name": "stdout",
     "output_type": "stream",
     "text": [
      "with 5 estimators 0.8800712191034771\n",
      "with 10 estimators 0.8927063259321326\n",
      "with 15 estimators 0.892056975282782\n",
      "with 20 estimators 0.8975680770842063\n",
      "with 25 estimators 0.8940071219103478\n",
      "with 30 estimators 0.8998470883954754\n",
      "with 35 estimators 0.8982237117720988\n",
      "with 100 estimators 0.8978969417679096\n",
      "with 200 estimators 0.8975785504817765\n"
     ]
    }
   ],
   "source": [
    "# random forest, ten-fold validation, initially 5 estimators\n",
    "# counts per tag,  run time\n",
    "print(\"with 5 estimators\", select_best_model(XsNoId, YsNoId['malware_category'], 20, train_and_test_RF_model(5)))\n",
    "print(\"with 10 estimators\", select_best_model(XsNoId, YsNoId['malware_category'], 20, train_and_test_RF_model(10)))\n",
    "print(\"with 15 estimators\", select_best_model(XsNoId, YsNoId['malware_category'], 20, train_and_test_RF_model(15)))\n",
    "print(\"with 20 estimators\", select_best_model(XsNoId, YsNoId['malware_category'], 20, train_and_test_RF_model(20)))\n",
    "print(\"with 25 estimators\", select_best_model(XsNoId, YsNoId['malware_category'], 20, train_and_test_RF_model(25)))\n",
    "print(\"with 30 estimators\", select_best_model(XsNoId, YsNoId['malware_category'], 20, train_and_test_RF_model(30)))\n",
    "print(\"with 35 estimators\", select_best_model(XsNoId, YsNoId['malware_category'], 20, train_and_test_RF_model(35)))\n",
    "print(\"with 100 estimators\", select_best_model(XsNoId, YsNoId['malware_category'], 20, train_and_test_RF_model(100)))\n",
    "print(\"with 200 estimators\", select_best_model(XsNoId, YsNoId['malware_category'], 20, train_and_test_RF_model(200)))"
   ]
  },
  {
   "cell_type": "code",
   "execution_count": 36,
   "metadata": {},
   "outputs": [
    {
     "name": "stdout",
     "output_type": "stream",
     "text": [
      "with 5 estimators 0.8758441558441559\n",
      "with 10 estimators 0.8881818181818181\n",
      "with 15 estimators 0.8898010054461668\n",
      "with 20 estimators 0.8920632593213238\n",
      "with 25 estimators 0.8888311688311689\n",
      "with 30 estimators 0.8920611646418098\n",
      "with 35 estimators 0.8930435693338918\n",
      "with 100 estimators 0.8936845412651865\n",
      "with 200 estimators 0.8946522832006704\n"
     ]
    }
   ],
   "source": [
    "# random forest, ten-fold validation, initially 5 estimators\n",
    "# counts per tag, tags per section,  run time (trainXs_new)\n",
    "print(\"with 5 estimators\", select_best_model(XsNoId, YsNoId['malware_category'], 20, train_and_test_RF_model(5)))\n",
    "print(\"with 10 estimators\", select_best_model(XsNoId, YsNoId['malware_category'], 20, train_and_test_RF_model(10)))\n",
    "print(\"with 15 estimators\", select_best_model(XsNoId, YsNoId['malware_category'], 20, train_and_test_RF_model(15)))\n",
    "print(\"with 20 estimators\", select_best_model(XsNoId, YsNoId['malware_category'], 20, train_and_test_RF_model(20)))\n",
    "print(\"with 25 estimators\", select_best_model(XsNoId, YsNoId['malware_category'], 20, train_and_test_RF_model(25)))\n",
    "print(\"with 30 estimators\", select_best_model(XsNoId, YsNoId['malware_category'], 20, train_and_test_RF_model(30)))\n",
    "print(\"with 35 estimators\", select_best_model(XsNoId, YsNoId['malware_category'], 20, train_and_test_RF_model(35)))\n",
    "print(\"with 100 estimators\", select_best_model(XsNoId, YsNoId['malware_category'], 20, train_and_test_RF_model(100)))\n",
    "print(\"with 200 estimators\", select_best_model(XsNoId, YsNoId['malware_category'], 20, train_and_test_RF_model(200)))"
   ]
  },
  {
   "cell_type": "code",
   "execution_count": 38,
   "metadata": {},
   "outputs": [
    {
     "name": "stdout",
     "output_type": "stream",
     "text": [
      "with 300 estimators 0.8936866359447002\n"
     ]
    }
   ],
   "source": [
    "print(\"with 300 estimators\", select_best_model(XsNoId, YsNoId['malware_category'], 20, train_and_test_RF_model(300)))"
   ]
  },
  {
   "cell_type": "code",
   "execution_count": 74,
   "metadata": {
    "collapsed": true
   },
   "outputs": [
    {
     "data": {
      "text/plain": [
       "(3086, 106)"
      ]
     },
     "execution_count": 74,
     "metadata": {},
     "output_type": "execute_result"
    }
   ],
   "source": [
    "XsNoId.shape"
   ]
  },
  {
   "cell_type": "code",
   "execution_count": null,
   "metadata": {
    "collapsed": true
   },
   "outputs": [],
   "source": []
  }
 ],
 "metadata": {
  "kernelspec": {
   "display_name": "Python 3",
   "language": "python",
   "name": "python3"
  },
  "language_info": {
   "codemirror_mode": {
    "name": "ipython",
    "version": 3
   },
   "file_extension": ".py",
   "mimetype": "text/x-python",
   "name": "python",
   "nbconvert_exporter": "python",
   "pygments_lexer": "ipython3",
   "version": "3.6.1"
  }
 },
 "nbformat": 4,
 "nbformat_minor": 2
}
